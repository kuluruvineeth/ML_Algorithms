{
 "cells": [
  {
   "cell_type": "code",
   "execution_count": 1,
   "id": "banned-valve",
   "metadata": {},
   "outputs": [],
   "source": [
    "import pandas as pd\n",
    "\n",
    "x = [0,1,2,3,4,5,6,7,8,9]\n",
    "y = [1,3,2,5,7,8,8,9,10,12]\n",
    "\n",
    "dict = {'X': x, 'Y': y}\n",
    "\n",
    "df = pd.DataFrame(dict)\n",
    "\n",
    "df.to_csv('data_points.csv')"
   ]
  },
  {
   "cell_type": "code",
   "execution_count": 2,
   "id": "competitive-pioneer",
   "metadata": {},
   "outputs": [
    {
     "name": "stdout",
     "output_type": "stream",
     "text": [
      "(10, 3)\n"
     ]
    },
    {
     "data": {
      "text/html": [
       "<div>\n",
       "<style scoped>\n",
       "    .dataframe tbody tr th:only-of-type {\n",
       "        vertical-align: middle;\n",
       "    }\n",
       "\n",
       "    .dataframe tbody tr th {\n",
       "        vertical-align: top;\n",
       "    }\n",
       "\n",
       "    .dataframe thead th {\n",
       "        text-align: right;\n",
       "    }\n",
       "</style>\n",
       "<table border=\"1\" class=\"dataframe\">\n",
       "  <thead>\n",
       "    <tr style=\"text-align: right;\">\n",
       "      <th></th>\n",
       "      <th>Unnamed: 0</th>\n",
       "      <th>X</th>\n",
       "      <th>Y</th>\n",
       "    </tr>\n",
       "  </thead>\n",
       "  <tbody>\n",
       "    <tr>\n",
       "      <th>0</th>\n",
       "      <td>0</td>\n",
       "      <td>0</td>\n",
       "      <td>1</td>\n",
       "    </tr>\n",
       "    <tr>\n",
       "      <th>1</th>\n",
       "      <td>1</td>\n",
       "      <td>1</td>\n",
       "      <td>3</td>\n",
       "    </tr>\n",
       "    <tr>\n",
       "      <th>2</th>\n",
       "      <td>2</td>\n",
       "      <td>2</td>\n",
       "      <td>2</td>\n",
       "    </tr>\n",
       "    <tr>\n",
       "      <th>3</th>\n",
       "      <td>3</td>\n",
       "      <td>3</td>\n",
       "      <td>5</td>\n",
       "    </tr>\n",
       "    <tr>\n",
       "      <th>4</th>\n",
       "      <td>4</td>\n",
       "      <td>4</td>\n",
       "      <td>7</td>\n",
       "    </tr>\n",
       "  </tbody>\n",
       "</table>\n",
       "</div>"
      ],
      "text/plain": [
       "   Unnamed: 0  X  Y\n",
       "0           0  0  1\n",
       "1           1  1  3\n",
       "2           2  2  2\n",
       "3           3  3  5\n",
       "4           4  4  7"
      ]
     },
     "execution_count": 2,
     "metadata": {},
     "output_type": "execute_result"
    }
   ],
   "source": [
    "data = pd.read_csv('data_points.csv')\n",
    "print(data.shape)\n",
    "data.head()"
   ]
  },
  {
   "cell_type": "code",
   "execution_count": 3,
   "id": "saving-authority",
   "metadata": {},
   "outputs": [],
   "source": [
    "import numpy as np\n",
    "import matplotlib.pyplot as plt"
   ]
  },
  {
   "cell_type": "code",
   "execution_count": 44,
   "id": "valued-guinea",
   "metadata": {},
   "outputs": [],
   "source": [
    "#collecting x and y values\n",
    "X = data['X'].values\n",
    "Y = data['Y'].values"
   ]
  },
  {
   "cell_type": "code",
   "execution_count": 45,
   "id": "swiss-freeware",
   "metadata": {},
   "outputs": [
    {
     "name": "stdout",
     "output_type": "stream",
     "text": [
      "[0 1 2 3 4 5 6 7 8 9]\n"
     ]
    }
   ],
   "source": [
    "print(X)"
   ]
  },
  {
   "cell_type": "code",
   "execution_count": 46,
   "id": "overhead-figure",
   "metadata": {},
   "outputs": [
    {
     "name": "stdout",
     "output_type": "stream",
     "text": [
      "[ 1  3  2  5  7  8  8  9 10 12]\n"
     ]
    }
   ],
   "source": [
    "print(Y)"
   ]
  },
  {
   "cell_type": "code",
   "execution_count": 47,
   "id": "swedish-aggregate",
   "metadata": {},
   "outputs": [
    {
     "name": "stdout",
     "output_type": "stream",
     "text": [
      "4.5\n"
     ]
    }
   ],
   "source": [
    "mean_X = np.mean(X)\n",
    "print(mean_X)"
   ]
  },
  {
   "cell_type": "code",
   "execution_count": 48,
   "id": "painful-lounge",
   "metadata": {},
   "outputs": [
    {
     "name": "stdout",
     "output_type": "stream",
     "text": [
      "6.5\n"
     ]
    }
   ],
   "source": [
    "mean_Y = np.mean(Y)\n",
    "print(mean_Y)"
   ]
  },
  {
   "cell_type": "code",
   "execution_count": 49,
   "id": "ethical-grass",
   "metadata": {},
   "outputs": [
    {
     "name": "stdout",
     "output_type": "stream",
     "text": [
      "10\n"
     ]
    }
   ],
   "source": [
    "n = len(X)\n",
    "print(n)"
   ]
  },
  {
   "cell_type": "code",
   "execution_count": 50,
   "id": "rolled-drive",
   "metadata": {},
   "outputs": [
    {
     "name": "stdout",
     "output_type": "stream",
     "text": [
      "1.1696969696969697 1.2363636363636363\n"
     ]
    }
   ],
   "source": [
    "# m = (x-mean_x)(y-mean_y)/(x-mean_x)^2;\n",
    "\n",
    "numerator = 0;\n",
    "denominator = 0;\n",
    "\n",
    "for i in range(n):\n",
    "    numerator+=(X[i] - mean_X)*(Y[i] - mean_Y)\n",
    "    denominator+=(X[i] - mean_X)**2\n",
    "m = numerator/denominator\n",
    "c = mean_Y - (m * mean_X)\n",
    "\n",
    "print(m,c)"
   ]
  },
  {
   "cell_type": "code",
   "execution_count": 51,
   "id": "exempt-potato",
   "metadata": {},
   "outputs": [
    {
     "name": "stdout",
     "output_type": "stream",
     "text": [
      "9\n"
     ]
    }
   ],
   "source": [
    "#lets visualize our regression line\n",
    "\n",
    "max_X = np.max(X);\n",
    "print(max_X)"
   ]
  },
  {
   "cell_type": "code",
   "execution_count": 52,
   "id": "intended-bennett",
   "metadata": {},
   "outputs": [
    {
     "name": "stdout",
     "output_type": "stream",
     "text": [
      "0\n"
     ]
    }
   ],
   "source": [
    "min_X = np.min(X);\n",
    "print(min_X)"
   ]
  },
  {
   "cell_type": "code",
   "execution_count": 53,
   "id": "spread-madagascar",
   "metadata": {},
   "outputs": [
    {
     "data": {
      "text/plain": [
       "<matplotlib.collections.PathCollection at 0x7f725a49a210>"
      ]
     },
     "execution_count": 53,
     "metadata": {},
     "output_type": "execute_result"
    },
    {
     "data": {
      "image/png": "[encoded data removed]",
      "text/plain": [
       "<Figure size 432x288 with 1 Axes>"
      ]
     },
     "metadata": {
      "needs_background": "light"
     },
     "output_type": "display_data"
    }
   ],
   "source": [
    "#generating 50 values between min_x and max_x\n",
    "\n",
    "x = np.linspace(min_X,max_X,50)\n",
    "#print(x)\n",
    "\n",
    "#regression line for above 50 points\n",
    "y = m*x + c\n",
    "#print(y)\n",
    "\n",
    "\n",
    "plt.plot(x,y,\"red\")\n",
    "plt.scatter(x,y)\n",
    "plt.scatter(X,Y)"
   ]
  },
  {
   "cell_type": "code",
   "execution_count": 62,
   "id": "charming-english",
   "metadata": {},
   "outputs": [
    {
     "name": "stdout",
     "output_type": "stream",
     "text": [
      "[0.99815313]\n"
     ]
    }
   ],
   "source": [
    "# to find the goodness of our model we use R^2 method\n",
    "# R^2 = 1 - (ss_r/ss_t)\n",
    "#ss_r = sum of squares of residual errors\n",
    "#ss_t = total sum of errors\n",
    "\n",
    "ss_r = 0;\n",
    "ss_t = 0;\n",
    "\n",
    "for i in range(n):\n",
    "    pred_y = m*X[i] + c\n",
    "    ss_t=(Y[i] - mean_Y)**2\n",
    "    ss_r=(Y[i] - pred_y)**2\n",
    "    \n",
    "# to scale between 0 and 1\n",
    "r2 = 1 - (ss_r/ss_t)\n",
    "print(r2)\n",
    "# higher the value of r2 better the model"
   ]
  },
  {
   "cell_type": "code",
   "execution_count": 61,
   "id": "therapeutic-middle",
   "metadata": {},
   "outputs": [
    {
     "name": "stdout",
     "output_type": "stream",
     "text": [
      "[ 1.23636364  2.40606061  3.57575758  4.74545455  5.91515152  7.08484848\n",
      "  8.25454545  9.42424242 10.59393939 11.76363636]\n",
      "0.952538038613988\n"
     ]
    }
   ],
   "source": [
    "# using scikit learn library\n",
    "\n",
    "from sklearn.linear_model import LinearRegression\n",
    "from sklearn.metrics import mean_squared_error\n",
    "\n",
    "# reshaping x1 matrix to n rows and 1 column\n",
    "X = X.reshape((n,1))\n",
    "\n",
    "# regression model\n",
    "reg = LinearRegression()\n",
    "\n",
    "# fitting training data\n",
    "reg = reg.fit(X,Y)\n",
    "\n",
    "#prediction\n",
    "y_pred = reg.predict(X)\n",
    "print(y_pred)\n",
    "\n",
    "# Root mean squared error and R^2 score\n",
    "mse = mean_squared_error(Y,y_pred)\n",
    "rmse = np.sqrt(mse)\n",
    "r2_score = reg.score(X,Y)\n",
    "\n",
    "print(r2_score)\n",
    "\n"
   ]
  },
  {
   "cell_type": "code",
   "execution_count": null,
   "id": "intermediate-wings",
   "metadata": {},
   "outputs": [],
   "source": []
  }
 ],
 "metadata": {
  "kernelspec": {
   "display_name": "Python 3",
   "language": "python",
   "name": "python3"
  },
  "language_info": {
   "codemirror_mode": {
    "name": "ipython",
    "version": 3
   },
   "file_extension": ".py",
   "mimetype": "text/x-python",
   "name": "python",
   "nbconvert_exporter": "python",
   "pygments_lexer": "ipython3",
   "version": "3.7.5"
  }
 },
 "nbformat": 4,
 "nbformat_minor": 5
}
