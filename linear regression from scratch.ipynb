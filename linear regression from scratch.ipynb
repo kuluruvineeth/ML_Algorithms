{
 "cells": [
  {
   "cell_type": "markdown",
   "id": "damaged-fighter",
   "metadata": {},
   "source": [
    "# Calculate mean and variance"
   ]
  },
  {
   "cell_type": "code",
   "execution_count": 14,
   "id": "saved-comparison",
   "metadata": {},
   "outputs": [
    {
     "name": "stdout",
     "output_type": "stream",
     "text": [
      "x stats: mean=3.000 variance=10.000\n",
      "y stats: mean=2.800 variance=8.800\n"
     ]
    }
   ],
   "source": [
    "# calculating the mean value of list of numbers\n",
    "def mean(values):\n",
    "    return sum(values) / float(len(values))\n",
    "\n",
    "# calculating the variance of list of numbers\n",
    "def variance(values,mean):\n",
    "    return sum([(x - mean)**2 for x in values])\n",
    "\n",
    "dataset = [[1,1],[2,3],[4,3],[3,2],[5,5]]\n",
    "\n",
    "x = [row[0] for row in dataset]\n",
    "y = [row[1] for row in dataset]\n",
    "\n",
    "mean_x, mean_y = mean(x), mean(y)\n",
    "var_x, var_y = variance(x,mean_x), variance(y,mean_y)\n",
    "\n",
    "print('x stats: mean=%.3f variance=%.3f' % (mean_x,var_x))\n",
    "print('y stats: mean=%.3f variance=%.3f' % (mean_y,var_y))\n"
   ]
  },
  {
   "cell_type": "markdown",
   "id": "hawaiian-episode",
   "metadata": {},
   "source": [
    "# Calculate Covariance"
   ]
  },
  {
   "cell_type": "code",
   "execution_count": 15,
   "id": "specified-destination",
   "metadata": {},
   "outputs": [
    {
     "name": "stdout",
     "output_type": "stream",
     "text": [
      "Covariance: 8.000\n"
     ]
    }
   ],
   "source": [
    "# calculating covariance between x and y\n",
    "\n",
    "def covariance(x,mean_x,y,mean_y):\n",
    "    covar = 0.0\n",
    "    for i in range(len(x)):\n",
    "        covar += (x[i] - mean_x) * (y[i] - mean_y)\n",
    "    return covar\n",
    "\n",
    "covar = covariance(x,mean_x,y,mean_y)\n",
    "print('Covariance: %.3f' % (covar))"
   ]
  },
  {
   "cell_type": "markdown",
   "id": "pleasant-recycling",
   "metadata": {},
   "source": [
    "# Estimating Coefficients"
   ]
  },
  {
   "cell_type": "code",
   "execution_count": 16,
   "id": "experienced-serve",
   "metadata": {},
   "outputs": [
    {
     "name": "stdout",
     "output_type": "stream",
     "text": [
      "Coefficients: B0=0.400, B1=0.800\n"
     ]
    }
   ],
   "source": [
    "# calculating coefficients\n",
    "\n",
    "def coefficients(dataset):\n",
    "    x = [row[0] for row in dataset]\n",
    "    y = [row[1] for row in dataset]\n",
    "    x_mean, y_mean = mean(x),mean(y)\n",
    "    b1 = covariance(x,x_mean,y,y_mean) / variance(x,x_mean)\n",
    "    b0 = y_mean - b1 * x_mean\n",
    "    return [b0,b1]\n",
    "\n",
    "b0,b1 = coefficients(dataset)\n",
    "print('Coefficients: B0=%.3f, B1=%.3f' % (b0,b1))"
   ]
  },
  {
   "cell_type": "markdown",
   "id": "deluxe-germany",
   "metadata": {},
   "source": [
    "# Make Predictions"
   ]
  },
  {
   "cell_type": "code",
   "execution_count": 17,
   "id": "oriental-deficit",
   "metadata": {},
   "outputs": [],
   "source": [
    "def simple_linear_regression(train,test):\n",
    "    predictions = list()\n",
    "    b0,b1 = coefficients(train)\n",
    "    for row in test:\n",
    "        yhat = b0 + b1 * row[0]\n",
    "        predictions.append(yhat)\n",
    "    return predictions"
   ]
  },
  {
   "cell_type": "markdown",
   "id": "regulation-fraud",
   "metadata": {},
   "source": [
    "# Complete Simple Linear Regression"
   ]
  },
  {
   "cell_type": "code",
   "execution_count": 19,
   "id": "seventh-chance",
   "metadata": {},
   "outputs": [
    {
     "name": "stdout",
     "output_type": "stream",
     "text": [
      "[1.1999999999999995, 1.9999999999999996, 3.5999999999999996, 2.8, 4.3999999999999995]\n",
      "[1, 3, 3, 2, 5]\n"
     ]
    },
    {
     "data": {
      "image/png": "[encoded data removed]",
      "text/plain": [
       "<Figure size 432x288 with 1 Axes>"
      ]
     },
     "metadata": {
      "needs_background": "light"
     },
     "output_type": "display_data"
    },
    {
     "name": "stdout",
     "output_type": "stream",
     "text": [
      "RMSE: 0.693\n"
     ]
    }
   ],
   "source": [
    "from math import sqrt\n",
    "import matplotlib.pyplot as plt\n",
    " \n",
    "# Calculate root mean squared error\n",
    "def rmse_metric(actual, predicted):\n",
    "    sum_error = 0.0\n",
    "    for i in range(len(actual)):\n",
    "        prediction_error = predicted[i] - actual[i]\n",
    "        sum_error += (prediction_error ** 2)\n",
    "    mean_error = sum_error / float(len(actual))\n",
    "    return sqrt(mean_error)\n",
    " \n",
    "# Evaluate regression algorithm on training dataset\n",
    "def evaluate_algorithm(dataset, algorithm):\n",
    "    test_set = list()\n",
    "    for row in dataset:\n",
    "        row_copy = list(row)\n",
    "        #print(row_copy)\n",
    "        row_copy[-1] = None\n",
    "        test_set.append(row_copy)\n",
    "        #print(test_set)\n",
    "    predicted = algorithm(dataset, test_set)\n",
    "    print(predicted)\n",
    "    actual = [row[-1] for row in dataset]\n",
    "    print(actual)\n",
    "    x = [row[0] for row in dataset]\n",
    "    plt.scatter(x,actual)\n",
    "    plt.plot(x,predicted,color='green')\n",
    "    plt.xlabel('x values')\n",
    "    plt.ylabel('y values')\n",
    "    plt.show()\n",
    "    rmse = rmse_metric(actual, predicted)\n",
    "    return rmse\n",
    " \n",
    "# Calculate the mean value of a list of numbers\n",
    "def mean(values):\n",
    "    return sum(values) / float(len(values))\n",
    " \n",
    "# Calculate covariance between x and y\n",
    "def covariance(x, mean_x, y, mean_y):\n",
    "    covar = 0.0\n",
    "    for i in range(len(x)):\n",
    "        covar += (x[i] - mean_x) * (y[i] - mean_y)\n",
    "    return covar\n",
    " \n",
    "# Calculate the variance of a list of numbers\n",
    "def variance(values, mean):\n",
    "    return sum([(x-mean)**2 for x in values])\n",
    " \n",
    "# Calculate coefficients\n",
    "def coefficients(dataset):\n",
    "    x = [row[0] for row in dataset]\n",
    "    y = [row[1] for row in dataset]\n",
    "    x_mean, y_mean = mean(x), mean(y)\n",
    "    b1 = covariance(x, x_mean, y, y_mean) / variance(x, x_mean)\n",
    "    b0 = y_mean - b1 * x_mean\n",
    "    return [b0, b1]\n",
    " \n",
    "# Simple linear regression algorithm\n",
    "def simple_linear_regression(train, test):\n",
    "    predictions = list()\n",
    "    b0, b1 = coefficients(train)\n",
    "    for row in test:\n",
    "        yhat = b0 + b1 * row[0]\n",
    "        predictions.append(yhat)\n",
    "    return predictions\n",
    " \n",
    "# Test simple linear regression\n",
    "dataset = [[1, 1], [2, 3], [4, 3], [3, 2], [5, 5]]\n",
    "rmse = evaluate_algorithm(dataset, simple_linear_regression)\n",
    "print('RMSE: %.3f' % (rmse))\n",
    "\n"
   ]
  },
  {
   "cell_type": "code",
   "execution_count": null,
   "id": "complicated-diploma",
   "metadata": {},
   "outputs": [],
   "source": []
  }
 ],
 "metadata": {
  "kernelspec": {
   "display_name": "Python 3",
   "language": "python",
   "name": "python3"
  },
  "language_info": {
   "codemirror_mode": {
    "name": "ipython",
    "version": 3
   },
   "file_extension": ".py",
   "mimetype": "text/x-python",
   "name": "python",
   "nbconvert_exporter": "python",
   "pygments_lexer": "ipython3",
   "version": "3.7.5"
  }
 },
 "nbformat": 4,
 "nbformat_minor": 5
}
