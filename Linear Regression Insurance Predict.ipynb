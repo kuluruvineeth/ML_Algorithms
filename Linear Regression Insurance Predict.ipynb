{
 "cells": [
  {
   "cell_type": "code",
   "execution_count": 47,
   "id": "floppy-attribute",
   "metadata": {},
   "outputs": [],
   "source": [
    "# simple linear regression on the swedish insurance dataset\n",
    "from random import seed\n",
    "from random import randrange\n",
    "from csv import reader\n",
    "from math import sqrt"
   ]
  },
  {
   "cell_type": "code",
   "execution_count": 48,
   "id": "consecutive-member",
   "metadata": {},
   "outputs": [],
   "source": [
    "# Loading a csv file\n",
    "def load_csv(filename):\n",
    "    dataset = list()\n",
    "    with open(filename,'r') as file:\n",
    "        csv_reader = reader(file)\n",
    "        for row in csv_reader:\n",
    "            if not row:\n",
    "                continue\n",
    "            dataset.append(row)\n",
    "    return dataset"
   ]
  },
  {
   "cell_type": "code",
   "execution_count": 49,
   "id": "moved-wheat",
   "metadata": {},
   "outputs": [],
   "source": [
    "# converting string column to float\n",
    "def str_column_to_float(dataset,column):\n",
    "    for row in dataset:\n",
    "        row[column] = float(row[column].strip())"
   ]
  },
  {
   "cell_type": "code",
   "execution_count": 50,
   "id": "unable-singer",
   "metadata": {},
   "outputs": [],
   "source": [
    "# split a dataset into a train and test set\n",
    "def train_test_split(dataset,split):\n",
    "    train = list()\n",
    "    train_size = split * len(dataset)\n",
    "    dataset_copy = list(dataset)\n",
    "    while len(train) < train_size:\n",
    "        index = randrange(len(dataset_copy))\n",
    "        train.append(dataset_copy.pop(index))\n",
    "    return train,dataset_copy"
   ]
  },
  {
   "cell_type": "code",
   "execution_count": 51,
   "id": "dependent-threat",
   "metadata": {},
   "outputs": [],
   "source": [
    "# calculating root mean squared error\n",
    "def rmse_metric(actual,predicted):\n",
    "    sum_error = 0.0\n",
    "    for i in range(len(actual)):\n",
    "        prediction_error = predicted[i] - actual[i]\n",
    "        sum_error+= (prediction_error**2)\n",
    "    mean_error = sum_error/float(len(actual))\n",
    "    return sqrt(mean_error)"
   ]
  },
  {
   "cell_type": "code",
   "execution_count": 52,
   "id": "alternative-porter",
   "metadata": {},
   "outputs": [],
   "source": [
    "# Evaluating algorithm using train/test split\n",
    "def evaluate_algorithm(dataset,algorithm,split,*args):\n",
    "    train,test = train_test_split(dataset,split)\n",
    "    test_set = list()\n",
    "    for row in test:\n",
    "        row_copy = list(row)\n",
    "        row_copy[-1] = None\n",
    "        test_set.append(row_copy)\n",
    "    predicted = algorithm(train,test_set,*args)\n",
    "    actual = [row[-1] for row in test]\n",
    "    rmse = rmse_metric(actual,predicted)\n",
    "    return (rmse)"
   ]
  },
  {
   "cell_type": "code",
   "execution_count": 53,
   "id": "seasonal-milwaukee",
   "metadata": {},
   "outputs": [],
   "source": [
    "# calculating mean value of a list of numbers\n",
    "def mean(values):\n",
    "    return sum(values)/float(len(values))"
   ]
  },
  {
   "cell_type": "code",
   "execution_count": 54,
   "id": "thorough-ownership",
   "metadata": {},
   "outputs": [],
   "source": [
    "# calculating covariance between x and y\n",
    "def covariance(x,mean_x,y,mean_y):\n",
    "    covar = 0.0\n",
    "    for i in range(len(x)):\n",
    "        covar+=(x[i] - mean_x)*(y[i] - mean_y)\n",
    "    return covar"
   ]
  },
  {
   "cell_type": "code",
   "execution_count": 55,
   "id": "handy-process",
   "metadata": {},
   "outputs": [],
   "source": [
    "# calculating the variance of a list of numbers\n",
    "def variance(values,mean):\n",
    "    return sum([(x - mean)**2 for x in values])"
   ]
  },
  {
   "cell_type": "code",
   "execution_count": 56,
   "id": "aggregate-buyer",
   "metadata": {},
   "outputs": [],
   "source": [
    "# calculating coefficients\n",
    "def coefficients(dataset):\n",
    "    x = [row[0] for row in dataset]\n",
    "    y = [row[1] for row in dataset]\n",
    "    x_mean,y_mean = mean(x),mean(y)\n",
    "    b1 = covariance(x,x_mean,y,y_mean)/variance(x,x_mean)\n",
    "    b0 = y_mean - b1*x_mean\n",
    "    return [b0,b1]"
   ]
  },
  {
   "cell_type": "code",
   "execution_count": 57,
   "id": "sealed-privacy",
   "metadata": {},
   "outputs": [],
   "source": [
    "# simple linear regression algorithm\n",
    "def simple_linear_regression(train,test):\n",
    "    predictions = list()\n",
    "    b0,b1 = coefficients(train)\n",
    "    for row in test:\n",
    "        yhat = b0 + b1 * row[0]\n",
    "        predictions.append(yhat)\n",
    "    return predictions"
   ]
  },
  {
   "cell_type": "code",
   "execution_count": 58,
   "id": "roman-thunder",
   "metadata": {},
   "outputs": [
    {
     "name": "stdout",
     "output_type": "stream",
     "text": [
      "RMSE : 33.630\n"
     ]
    }
   ],
   "source": [
    "# simple linear regression on insurance dataset\n",
    "seed(1)\n",
    "\n",
    "# load and prepare data\n",
    "filename = 'auto-insurance.csv'\n",
    "dataset = load_csv(filename)\n",
    "for i in range(len(dataset[0])):\n",
    "    str_column_to_float(dataset,i)\n",
    "    \n",
    "# evaluate algorithm\n",
    "split = 0.6\n",
    "rmse = evaluate_algorithm(dataset,simple_linear_regression,split)\n",
    "print('RMSE : %.3f' %(rmse))\n"
   ]
  },
  {
   "cell_type": "code",
   "execution_count": null,
   "id": "aerial-easter",
   "metadata": {},
   "outputs": [],
   "source": []
  }
 ],
 "metadata": {
  "kernelspec": {
   "display_name": "Python 3",
   "language": "python",
   "name": "python3"
  },
  "language_info": {
   "codemirror_mode": {
    "name": "ipython",
    "version": 3
   },
   "file_extension": ".py",
   "mimetype": "text/x-python",
   "name": "python",
   "nbconvert_exporter": "python",
   "pygments_lexer": "ipython3",
   "version": "3.7.5"
  }
 },
 "nbformat": 4,
 "nbformat_minor": 5
}
